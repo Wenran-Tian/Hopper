{
 "cells": [
  {
   "cell_type": "markdown",
   "metadata": {},
   "source": [
    "# Demonstration of a 2D Raibert hopper in PyBullet"
   ]
  },
  {
   "cell_type": "markdown",
   "metadata": {},
   "source": [
    "In this notebook we will build a URDF hopper file and import it into PyBullet. From there we will implement Raibert's control scheme for his hopping robots."
   ]
  },
  {
   "cell_type": "code",
   "execution_count": 1,
   "metadata": {},
   "outputs": [
    {
     "ename": "ModuleNotFoundError",
     "evalue": "No module named 'urdfpy'",
     "output_type": "error",
     "traceback": [
      "\u001b[1;31m---------------------------------------------------------------------------\u001b[0m",
      "\u001b[1;31mModuleNotFoundError\u001b[0m                       Traceback (most recent call last)",
      "\u001b[1;32m<ipython-input-1-e3067e3bfa0f>\u001b[0m in \u001b[0;36m<module>\u001b[1;34m\u001b[0m\n\u001b[0;32m     11\u001b[0m \u001b[1;33m\u001b[0m\u001b[0m\n\u001b[0;32m     12\u001b[0m \u001b[1;31m# Let's use urdfpy to examine our urdf file before importing into pybullet\u001b[0m\u001b[1;33m\u001b[0m\u001b[1;33m\u001b[0m\u001b[1;33m\u001b[0m\u001b[0m\n\u001b[1;32m---> 13\u001b[1;33m \u001b[1;32mfrom\u001b[0m \u001b[0murdfpy\u001b[0m \u001b[1;32mimport\u001b[0m \u001b[0mURDF\u001b[0m\u001b[1;33m\u001b[0m\u001b[1;33m\u001b[0m\u001b[0m\n\u001b[0m\u001b[0;32m     14\u001b[0m \u001b[1;33m\u001b[0m\u001b[0m\n\u001b[0;32m     15\u001b[0m \u001b[1;32mimport\u001b[0m \u001b[0mtime\u001b[0m\u001b[1;33m\u001b[0m\u001b[1;33m\u001b[0m\u001b[0m\n",
      "\u001b[1;31mModuleNotFoundError\u001b[0m: No module named 'urdfpy'"
     ]
    }
   ],
   "source": [
    "# The PyBullet physics simulation library\n",
    "import pybullet as p\n",
    "import pybullet_data\n",
    "\n",
    "# Numpy for numerical calculations and manipulations\n",
    "import numpy as np\n",
    "import math\n",
    "\n",
    "# Matplotlib to create the necessary plots\n",
    "import matplotlib.pyplot as plt\n",
    "\n",
    "# Let's use urdfpy to examine our urdf file before importing into pybullet\n",
    "from urdfpy import URDF\n",
    "\n",
    "import time"
   ]
  },
  {
   "cell_type": "markdown",
   "metadata": {},
   "source": [
    "## Build a URDF file from scratch\n",
    "\n",
    "The following code will write to a .urdf file the URDF code contained in the quotation marks. In this way you can quickly edit and import URDF files to test if working. "
   ]
  },
  {
   "cell_type": "code",
   "execution_count": 2,
   "metadata": {},
   "outputs": [],
   "source": [
    "body_width = 1.0\n",
    "body_radius = 0.05\n",
    "body_mass = 100\n",
    "body_ixx = (1/12)*body_mass*(2*body_radius**2 + body_width**2)\n",
    "body_iyy = (1/12)*body_mass*(2*body_radius**2 + body_width**2)\n",
    "body_izz = (1/2)*body_mass*body_width**2\n",
    "\n",
    "hip_length = 0.3\n",
    "hip_radius = 0.05\n",
    "hip_mass = 1\n",
    "hip_ixx = (1/12)*hip_mass*(2*hip_radius**2 + hip_length**2)\n",
    "hip_iyy = (1/12)*hip_mass*(2*hip_radius**2 + hip_length**2)\n",
    "hip_izz = (1/2)*hip_mass*hip_length**2\n",
    "\n",
    "leg_length = 1.0\n",
    "leg_radius = 0.005\n",
    "leg_mass = 1\n",
    "leg_ixx = (1/12)*leg_mass*(2*leg_radius**2 + leg_length**2)\n",
    "leg_iyy = (1/12)*leg_mass*(2*leg_radius**2 + leg_length**2)\n",
    "leg_izz = (1/2)*leg_mass*leg_length**2\n",
    "\n",
    "foot_radius = 0.06\n",
    "foot_mass = 1\n",
    "foot_ixx = (2/5)*foot_mass*foot_radius**2\n",
    "foot_iyy = (2/5)*foot_mass*foot_radius**2\n",
    "foot_izz = (2/5)*foot_mass*foot_radius**2\n",
    "\n",
    "urdf_string = f\"\"\"<?xml version=\"1.0\"?>\n",
    "<robot name=\"hopper\">\n",
    "\n",
    "<!-- Material definitions -->\n",
    "<material name=\"blue\">\n",
    "<color rgba=\"0 0 0.8 1\"/>\n",
    "</material>\n",
    "\n",
    "<material name=\"white\">\n",
    "<color rgba=\"1 1 1 1\"/>\n",
    "</material>\n",
    "\n",
    "<material name=\"red\">\n",
    "<color rgba=\"1 0 0 1\"/>\n",
    "</material>\n",
    "\n",
    "<!-- 2D constraints to make the robot planarized -->\n",
    "<link name=\"world\">\n",
    "<inertial>\n",
    "<mass value=\"0\"/>\n",
    "<inertia ixx=\"0.2125\" ixy=\"-0.005\" ixz=\"0.0225\" iyy=\"0.205\" iyz=\"0.045\" izz=\"0.0125\"/>\n",
    "<origin rpy=\"0 0 0\" xyz=\"0 0 0\"/>\n",
    "</inertial>\n",
    "</link>\n",
    "\n",
    "<link name=\"x_prismatic\">\n",
    "<inertial>\n",
    "<mass value=\"0.01\"/>\n",
    "<inertia ixx=\"0.2125\" ixy=\"-0.005\" ixz=\"0.0225\" iyy=\"0.205\" iyz=\"0.045\" izz=\"0.0125\"/>\n",
    "<origin rpy=\"0 0 0\" xyz=\"0 0 0\"/>\n",
    "</inertial>\n",
    "</link>\n",
    "\n",
    "<link name=\"z_prismatic\">\n",
    "<inertial>\n",
    "<mass value=\"0.01\"/>\n",
    "<inertia ixx=\"0.2125\" ixy=\"-0.005\" ixz=\"0.0225\" iyy=\"0.205\" iyz=\"0.045\" izz=\"0.0125\"/>\n",
    "<origin rpy=\"0 0 0\" xyz=\"0 0 0\"/>\n",
    "</inertial>\n",
    "</link>\n",
    "\n",
    "<joint name=\"x_to_world\" type=\"prismatic\">\n",
    "<parent link=\"world\"/>\n",
    "<child link=\"x_prismatic\"/>\n",
    "<axis xyz=\"1 0 0\"/>\n",
    "<limit effort=\"0.0\" lower=\"1\" upper=\"-1\" velocity=\"1000.0\"/>\n",
    "<origin rpy=\"0 0 0\" xyz=\"0 0 0\"/>\n",
    "</joint>\n",
    "\n",
    "<joint name=\"z_to_y\" type=\"prismatic\">\n",
    "<parent link=\"x_prismatic\"/>\n",
    "<child link=\"z_prismatic\"/>\n",
    "<axis xyz=\"0 0 1\"/>\n",
    "<limit effort=\"0.0\" lower=\"1\" upper=\"-1\" velocity=\"1000.0\"/>\n",
    "<origin rpy=\"0 0 0\" xyz=\"0 0 0\"/>\n",
    "</joint>\n",
    "\n",
    "<joint name=\"body_to_z\" type=\"continuous\">\n",
    "<parent link=\"z_prismatic\"/>\n",
    "<child link=\"body\"/>\n",
    "<axis xyz=\"0 1 0\"/>\n",
    "<origin rpy=\"0 0 0\" xyz=\"0 0 0\"/>\n",
    "</joint>\n",
    "\n",
    "\n",
    "<!-- The robot links definition -->\n",
    "<link name=\"body\">\n",
    "<visual>     \n",
    "<geometry>\n",
    "<cylinder length=\"{body_width}\" radius=\"{body_radius}\"/>\n",
    "</geometry>\n",
    "<origin rpy=\"0 1.57075 0\" xyz=\"0 0 0\"/>\n",
    "<material name=\"blue\"/>\n",
    "</visual>\n",
    "<collision>\n",
    "<origin rpy=\"0 1.57075 0\" xyz=\"0 0 0\"/>\n",
    "<geometry>\n",
    "<cylinder length=\"{body_width}\" radius=\"{body_radius}\"/>\n",
    "</geometry>\n",
    "</collision>\n",
    "<material name=\"blue\"/>\n",
    "<inertial>\n",
    "<mass value=\"{body_mass}\"/>\n",
    "<inertia ixx=\"{body_ixx:.2}\" ixy=\"0.0\" ixz=\"0.0\" iyy=\"{body_iyy:.2}\" iyz=\"0.0\" izz=\"{body_izz:.2}\"/>\n",
    "</inertial>\n",
    "</link>\n",
    "\n",
    "<link name=\"hip_link\">\n",
    "<visual>\n",
    "<material name=\"white\"/>\n",
    "<origin rpy=\"0 0 0\" xyz=\"0 0 0\"/>\n",
    "<geometry>\n",
    "<cylinder length=\"{hip_length}\" radius=\"{hip_radius}\"/>\n",
    "</geometry>\n",
    "</visual>\n",
    "<inertial>\n",
    "<mass value=\"{hip_mass}\"/>\n",
    "<inertia ixx=\"{hip_ixx:.2}\" ixy=\"0.0\" ixz=\"0.0\" iyy=\"{hip_iyy:.2}\" iyz=\"0.0\" izz=\"{hip_izz:.2}\"/>\n",
    "</inertial>\n",
    "<collision>\n",
    "<origin rpy=\"0 0 0\" xyz=\"0 0 0\"/>\n",
    "<geometry>\n",
    "<cylinder length=\"{hip_length}\" radius=\"{hip_radius}\"/>\n",
    "</geometry>\n",
    "</collision>\n",
    "</link>\n",
    "\n",
    "<link name=\"shin_link\">\n",
    "<visual>\n",
    "<material name=\"white\"/>\n",
    "<origin rpy=\"0 0 0\" xyz=\"0 0 0\"/>\n",
    "<geometry>\n",
    "<cylinder length=\"{leg_length}\" radius=\"{leg_radius}\"/>\n",
    "</geometry>\n",
    "</visual>\n",
    "<inertial>\n",
    "<mass value=\"{leg_mass}\"/>\n",
    "<inertia ixx=\"{leg_ixx:.2}\" ixy=\"0.0\" ixz=\"0.0\" iyy=\"{leg_iyy:.2}\" iyz=\"0.0\" izz=\"{leg_izz:.2}\"/>\n",
    "</inertial>\n",
    "<collision>\n",
    "<origin rpy=\"0 0 0\" xyz=\"0 0 0\"/>\n",
    "<geometry>\n",
    "<cylinder length=\"{leg_length}\" radius=\"{leg_radius}\"/>\n",
    "</geometry>\n",
    "</collision>\n",
    "</link>\n",
    "\n",
    "<link name=\"foot\">\n",
    "<visual>\n",
    "<material name=\"red\"/>\n",
    "<origin rpy=\"0 0 0\" xyz=\"0 0 0\"/>\n",
    "<geometry>\n",
    "<sphere radius=\"{foot_radius}\"/>\n",
    "</geometry>\n",
    "</visual>\n",
    "<inertial>\n",
    "<mass value=\"{foot_mass}\"/>\n",
    "<inertia ixx=\"{foot_ixx:.2}\" ixy=\"0.0\" ixz=\"0.0\" iyy=\"{foot_iyy:.2}\" iyz=\"0.0\" izz=\"{foot_izz:.2}\"/>\n",
    "</inertial>      \n",
    "<collision>\n",
    "<origin rpy=\"0 0 0\" xyz=\"0 0 0\"/>\n",
    "<geometry>\n",
    "<sphere radius=\"{foot_radius}\"/>\n",
    "</geometry>\n",
    "</collision>\n",
    "</link>\n",
    "\n",
    "<!-- The robot joints definition -->\n",
    "<joint name=\"hip\" type=\"continuous\">\n",
    "<origin rpy=\"0 0 0\" xyz=\"0 0 0\"/>\n",
    "<parent link=\"body\"/>\n",
    "<child link=\"hip_link\"/>\n",
    "<axis xyz=\"0.0 1.0 0.0\"/>\n",
    "</joint>\n",
    "\n",
    "<joint name=\"leg\" type=\"prismatic\">\n",
    "<parent link=\"hip_link\"/>\n",
    "<child link=\"shin_link\"/>\n",
    "<axis xyz=\"0.0 0.0 1.0\"/>\n",
    "<limit effort=\"1000.0\" lower=\"-10000.0\" upper=\"10000.0\" velocity=\"1000.0\"/>\n",
    "</joint>\n",
    "\n",
    "<joint name=\"foot\" type=\"fixed\">\n",
    "<origin rpy=\"0 0 0\" xyz=\"0.0 0.0 {-leg_length/2}\"/>\n",
    "<parent link=\"shin_link\"/>\n",
    "<child link=\"foot\"/>\n",
    "</joint>\n",
    "\n",
    "</robot>  \n",
    "\"\"\"\n",
    "\n",
    "# <limit effort=\"100.0\" lower=\"-10000.0\" upper=\"10000.0\" velocity=\"1000.0\"/>\n",
    "\n",
    "f = open('hopper_2d.urdf', 'w')\n",
    "f.write(urdf_string)\n",
    "f.close()        "
   ]
  },
  {
   "cell_type": "markdown",
   "metadata": {},
   "source": [
    "## Inspect URDF file with urdfpy"
   ]
  },
  {
   "cell_type": "code",
   "execution_count": 3,
   "metadata": {},
   "outputs": [
    {
     "name": "stdout",
     "output_type": "stream",
     "text": [
      "Links\n",
      "world\n",
      "x_prismatic\n",
      "z_prismatic\n",
      "body\n",
      "hip_link\n",
      "shin_link\n",
      "foot\n",
      "\n",
      "\n",
      "Joints\n",
      "x_to_world connects world to x_prismatic\n",
      "z_to_y connects x_prismatic to z_prismatic\n",
      "body_to_z connects z_prismatic to body\n",
      "hip connects body to hip_link\n",
      "leg connects hip_link to shin_link\n",
      "foot connects shin_link to foot\n"
     ]
    }
   ],
   "source": [
    "robot = URDF.load('hopper_2d.urdf')\n",
    "\n",
    "print('Links')\n",
    "for link in robot.links:\n",
    "    print(link.name)\n",
    "\n",
    "print('\\r\\n')\n",
    "print('Joints')\n",
    "for joint in robot.joints:\n",
    "    print('{} connects {} to {}'.format(\n",
    "           joint.name, joint.parent, joint.child))    "
   ]
  },
  {
   "cell_type": "code",
   "execution_count": 4,
   "metadata": {},
   "outputs": [],
   "source": [
    "# robot.show(use_collision = True)"
   ]
  },
  {
   "cell_type": "markdown",
   "metadata": {},
   "source": [
    "## Instantiate the GUI and load the ground and robot URDF files"
   ]
  },
  {
   "cell_type": "code",
   "execution_count": 5,
   "metadata": {},
   "outputs": [],
   "source": [
    "# Use p.DIRECT to connect to the server without rendering a GUI\n",
    "# Use p.GUI to create a GUI to render the simulation\n",
    "client = p.connect(p.GUI) # or p.GUI\n",
    "\n",
    "### This line is important if you are editing your URDF since it default caches them\n",
    "p.setPhysicsEngineParameter(enableFileCaching=0) \n",
    "\n",
    "p.setAdditionalSearchPath(pybullet_data.getDataPath()) # Set the search path to find the plane.urdf file\n",
    "p.configureDebugVisualizer(p.COV_ENABLE_GUI,0)"
   ]
  },
  {
   "cell_type": "code",
   "execution_count": 6,
   "metadata": {},
   "outputs": [],
   "source": [
    "# Use this to reset and retry\n",
    "p.resetSimulation()\n",
    "p.setAdditionalSearchPath(pybullet_data.getDataPath()) # Set the search path to find the plane.urdf file\n",
    "p.configureDebugVisualizer(p.COV_ENABLE_GUI,0)\n",
    "\n",
    "import numpy as np"
   ]
  },
  {
   "cell_type": "code",
   "execution_count": 7,
   "metadata": {},
   "outputs": [],
   "source": [
    "# Load the URDF of the plane that forms the ground\n",
    "plane = p.loadURDF(\"plane.urdf\")\n",
    "p.changeDynamics(plane,-1,lateralFriction = 60)\n",
    "\n",
    "# # Load the URDF of the robot\n",
    "cubeStartPos = [0,0,1]\n",
    "cubeStartOrientation = p.getQuaternionFromEuler([0,0,0])\n",
    "hpr = p.loadURDF(\"hopper_2d.urdf\", cubeStartPos, cubeStartOrientation)\n",
    "# botId = p.loadURDF(\"biped2d_pybullet.urdf\", cubeStartPos, cubeStartOrientation)\n",
    "\n",
    "# Set the Gravity vector\n",
    "p.setGravity(0,0,-9.81, physicsClientId = client)\n",
    "\n",
    "# Set the simulation time-step. Default is 1/240\n",
    "# p.setTimeStep(0.001) #The lower this is, more accurate the simulation "
   ]
  },
  {
   "cell_type": "markdown",
   "metadata": {},
   "source": [
    "Runs the simulation without any control or contact. Should be commented out to run the sims below."
   ]
  },
  {
   "cell_type": "code",
   "execution_count": null,
   "metadata": {},
   "outputs": [],
   "source": [
    "# while 1:\n",
    "#     p.stepSimulation()\n",
    "#     time.sleep(1/240.)"
   ]
  },
  {
   "cell_type": "code",
   "execution_count": 35,
   "metadata": {},
   "outputs": [],
   "source": [
    "p.disconnect(client)"
   ]
  },
  {
   "cell_type": "markdown",
   "metadata": {},
   "source": [
    "## Let's use Pybullet to get info on the joints and links"
   ]
  },
  {
   "cell_type": "code",
   "execution_count": 8,
   "metadata": {},
   "outputs": [
    {
     "name": "stdout",
     "output_type": "stream",
     "text": [
      "Number of bodies: 2\n",
      "b'plane'\n",
      "b'hopper'\n",
      "\n",
      "\n",
      "Joint names:\n",
      "x_to_world\n",
      "z_to_y\n",
      "body_to_z\n",
      "hip\n",
      "leg\n",
      "foot\n",
      "\n",
      "\n",
      "Link names:\n",
      "x_prismatic\n",
      "z_prismatic\n",
      "body\n",
      "hip_link\n",
      "shin_link\n",
      "foot\n"
     ]
    }
   ],
   "source": [
    "numBodies = p.getNumBodies()\n",
    "bodyNames = [p.getBodyInfo(ii) for ii in range(numBodies)]\n",
    "\n",
    "print(f\"Number of bodies: {numBodies}\")\n",
    "[print(name[1]) for name in bodyNames]\n",
    "\n",
    "numJointsHopper = p.getNumJoints(hpr)\n",
    "jointInfo = [p.getJointInfo(hpr, ii) for ii in range(numJointsHopper)]\n",
    "\n",
    "## Make a dict of the joint names to easily access them for control purposes\n",
    "joints = {str(joint[1])[2:-1]: i for i, joint in enumerate(jointInfo)}\n",
    "\n",
    "print(\"\\r\\n\")\n",
    "print(f\"Joint names:\")\n",
    "[print(key) for key, value in joints.items()];\n",
    "\n",
    "# Link names are stored in the joint\n",
    "links = {str(joint[12])[2:-1]: i for i, joint in enumerate(jointInfo)}\n",
    "\n",
    "print(\"\\r\\n\")\n",
    "print(f\"Link names:\")\n",
    "[print(key) for key, value in links.items()];\n"
   ]
  },
  {
   "cell_type": "code",
   "execution_count": 17,
   "metadata": {},
   "outputs": [],
   "source": [
    "# %qtconsole"
   ]
  },
  {
   "cell_type": "markdown",
   "metadata": {},
   "source": [
    "## Test actuation of the hip and leg: let's do this in two modes position and force/torque\n",
    "\n",
    "We first need to lock the state of the 2D constraining links. We set these into position control mode and fix their position to 0. We set the other two joints into the desired control mode"
   ]
  },
  {
   "cell_type": "code",
   "execution_count": 9,
   "metadata": {},
   "outputs": [],
   "source": [
    "# Set the controlled joints to the desired mode\n",
    "p.setJointMotorControl2(hpr, joints['x_to_world'], p.VELOCITY_CONTROL, force = 0)\n",
    "p.setJointMotorControl2(hpr, joints['z_to_y'], p.VELOCITY_CONTROL, force = 0)\n",
    "p.setJointMotorControl2(hpr, joints['body_to_z'], p.VELOCITY_CONTROL, force = 0)\n",
    "p.setJointMotorControl2(hpr, joints['hip'], p.VELOCITY_CONTROL, force = 0)\n",
    "p.setJointMotorControl2(hpr, joints['leg'], p.VELOCITY_CONTROL, force = 0)\n",
    "\n",
    "# Lock the base position of the robot\n",
    "p.setJointMotorControl2(hpr, joints['x_to_world'], p.POSITION_CONTROL, targetPosition=0)\n",
    "p.setJointMotorControl2(hpr, joints['z_to_y'], p.POSITION_CONTROL, targetPosition=0)\n",
    "p.setJointMotorControl2(hpr, joints['body_to_z'], p.POSITION_CONTROL, targetPosition=0)"
   ]
  },
  {
   "cell_type": "code",
   "execution_count": 10,
   "metadata": {},
   "outputs": [],
   "source": [
    "# Define a sinusoidal trajectory\n",
    "dt         = 1/240.0        # Simulation time-step\n",
    "f          = 1             # Frequency of oscillation (1 Hz)\n",
    "omega      = 2*math.pi*f    # Angular frequency\n",
    "l0         = 0              # Start position\n",
    "amp_leg    = leg_length * 0.2;\n",
    "amp_hip    = np.pi*0.5;\n",
    "\n",
    "p_gain = 1000 # Proportional gain\n",
    "d_gain = 500 # Derivative gain\n",
    "\n",
    "error = 0\n",
    "\n",
    "pos_leg = []\n",
    "pos_hip = []\n",
    "    \n",
    "runTime = 3.  # seconds \n",
    "runIterations = int(np.round(runTime / dt))\n",
    "    \n",
    "for i in range(runIterations):\n",
    "    \n",
    "    # Get the joint state\n",
    "    position, velocity, reactForce, appliedForce = p.getJointState(hpr, joints['leg'])\n",
    "    pos_leg.append(position)\n",
    "    position, velocity, reactForce, appliedForce = p.getJointState(hpr, joints['hip'])\n",
    "    pos_hip.append(position)\n",
    "    \n",
    "    # Calculate the control input\n",
    "    targetPosition_leg = amp_leg*np.sin(omega*(i*dt) + np.pi/2) + l0\n",
    "    targetPosition_hip = amp_hip*np.sin(omega*(i*dt)) + l0\n",
    "    \n",
    "    p.setJointMotorControl2(hpr, joints['leg'], p.POSITION_CONTROL, targetPosition=targetPosition_leg)    \n",
    "    p.setJointMotorControl2(hpr, joints['hip'], p.POSITION_CONTROL, targetPosition=targetPosition_hip)   \n",
    "    \n",
    "    p.stepSimulation()\n",
    "    time.sleep(dt) \n",
    "    \n",
    "    "
   ]
  },
  {
   "cell_type": "code",
   "execution_count": 14,
   "metadata": {},
   "outputs": [
    {
     "data": {
      "text/plain": [
       "[<matplotlib.lines.Line2D at 0x7f9df8273f40>]"
      ]
     },
     "execution_count": 14,
     "metadata": {},
     "output_type": "execute_result"
    },
    {
     "data": {
      "image/png": "[encoded data removed]",
      "text/plain": [
       "<Figure size 432x288 with 1 Axes>"
      ]
     },
     "metadata": {
      "needs_background": "light"
     },
     "output_type": "display_data"
    }
   ],
   "source": [
    "plt.plot(pos_leg)\n",
    "plt.plot(pos_hip)\n"
   ]
  },
  {
   "cell_type": "markdown",
   "metadata": {},
   "source": [
    "## Now let's make this robot hop! We will do this in two ways\n",
    "\n",
    "1. Constant extension force when hitting the ground.\n",
    "2. Precompress a spring loaded leg in flight\n",
    "\n",
    "Also, we will lock the rotation so that this is just a 1D hopper"
   ]
  },
  {
   "cell_type": "markdown",
   "metadata": {},
   "source": [
    "### Constant extenstion force\n",
    "\n",
    "We will set the joints into the following modes\n",
    "\n",
    "**planarizing joints**\n",
    "1. x-motion locked\n",
    "2. y-motion free\n",
    "3. theta motion locked\n",
    "\n",
    "**robot joints**\n",
    "1. hip angle locked\n",
    "2. leg length free and in torque mode\n",
    "\n",
    "In both cases we need to detect the robot state, are we in stance or aerial phase? To do that we will detect the position of the foot and compare with ground (minus the radius of the foot).\n"
   ]
  },
  {
   "cell_type": "code",
   "execution_count": 11,
   "metadata": {},
   "outputs": [],
   "source": [
    "###### Reset sim and reload robots\n",
    "\n",
    "p.resetSimulation()\n",
    "p.setAdditionalSearchPath(pybullet_data.getDataPath()) # Set the search path to find the plane.urdf file\n",
    "p.configureDebugVisualizer(p.COV_ENABLE_GUI,0)\n",
    "\n",
    "import numpy as np\n",
    "\n",
    "# Load the URDF of the plane that forms the ground\n",
    "plane = p.loadURDF(\"plane.urdf\")\n",
    "p.changeDynamics(plane,-1,lateralFriction = 60)\n",
    "\n",
    "# # Load the URDF of the robot\n",
    "cubeStartPos = [0,0,1]\n",
    "cubeStartOrientation = p.getQuaternionFromEuler([0,0,0])\n",
    "hpr = p.loadURDF(\"hopper_2d.urdf\", cubeStartPos, cubeStartOrientation)\n",
    "# botId = p.loadURDF(\"biped2d_pybullet.urdf\", cubeStartPos, cubeStartOrientation)\n",
    "\n",
    "# Set the Gravity vector\n",
    "p.setGravity(0,0,-9.81, physicsClientId = client)\n",
    "\n",
    "numJointsHopper = p.getNumJoints(hpr)\n",
    "jointInfo = [p.getJointInfo(hpr, ii) for ii in range(numJointsHopper)]\n",
    "\n",
    "## Make a dict of the joint names to easily access them for control purposes\n",
    "joints = {str(joint[1])[2:-1]: i for i, joint in enumerate(jointInfo)}\n",
    "# Link names are stored in the joint\n",
    "links = {str(joint[12])[2:-1]: i for i, joint in enumerate(jointInfo)}\n",
    "\n",
    "\n",
    "\n",
    "###### Joint constraints\n",
    "p.setJointMotorControl2(hpr, joints['x_to_world'], p.POSITION_CONTROL, targetPosition=0)\n",
    "p.setJointMotorControl2(hpr, joints['z_to_y'], p.VELOCITY_CONTROL, force=0)\n",
    "p.setJointMotorControl2(hpr, joints['body_to_z'], p.POSITION_CONTROL, targetPosition=0)\n",
    "p.setJointMotorControl2(hpr, joints['hip'], p.POSITION_CONTROL, targetPosition=0)\n",
    "\n",
    "p.setJointMotorControl2(hpr, joints['leg'], p.VELOCITY_CONTROL, force = 0) # for torque/force control\n",
    "\n",
    "###### contact detection and forcing\n",
    "def contact():\n",
    "    foot_position = p.getLinkState(hpr, links['foot'])[0][2] - foot_radius\n",
    "\n",
    "    if foot_position < 0:\n",
    "        return True\n",
    "    else:\n",
    "        return False\n",
    "\n",
    "    \n",
    "    \n",
    "###### Run the simulation \n",
    "\n",
    "legForce = 100\n",
    "\n",
    "runTime = 3.  # seconds \n",
    "runIterations = int(np.round(runTime / dt))\n",
    "state = 0;\n",
    "\n",
    "leg_state = {'t': [], 'pos': [], 'vel': [], 'rF': [], 'aF': []}\n",
    "body = {'posx': [], 'posy': [], 'posz': []}\n",
    "\n",
    "for i in range(runIterations):\n",
    "    \n",
    "    # check if in contact\n",
    "    state = contact()\n",
    "    \n",
    "    if state == True: # stance phase\n",
    "        p.setJointMotorControl2(hpr, joints['leg'], p.VELOCITY_CONTROL, force = legForce)\n",
    "            \n",
    "    else: # flight phase\n",
    "        p.setJointMotorControl2(hpr, joints['leg'], p.POSITION_CONTROL, targetPosition=0)\n",
    "\n",
    "       \n",
    "    position, velocity, reactForce, appliedForce = p.getJointState(hpr, joints['leg'])    \n",
    "    leg_state['t'].append(i*dt)\n",
    "    leg_state['pos'].append(position)\n",
    "    leg_state['vel'].append(velocity)\n",
    "    leg_state['rF'].append(reactForce)\n",
    "    leg_state['aF'].append(appliedForce)\n",
    "    \n",
    "    position = p.getLinkState(hpr, links['foot'])[0]\n",
    "    body['posx'].append(position[0])\n",
    "    body['posy'].append(position[1])\n",
    "    body['posz'].append(position[2])\n",
    "        \n",
    "    p.stepSimulation()\n",
    "    time.sleep(dt) \n"
   ]
  },
  {
   "cell_type": "code",
   "execution_count": 98,
   "metadata": {},
   "outputs": [
    {
     "data": {
      "text/plain": [
       "Text(0, 0.5, 'Body z')"
      ]
     },
     "execution_count": 98,
     "metadata": {},
     "output_type": "execute_result"
    },
    {
     "data": {
      "image/png": "[encoded data removed]",
      "text/plain": [
       "<Figure size 720x720 with 4 Axes>"
      ]
     },
     "metadata": {
      "needs_background": "light"
     },
     "output_type": "display_data"
    }
   ],
   "source": [
    "plt.figure(figsize = (10, 10))\n",
    "\n",
    "plt.subplot(4,1,1)\n",
    "plt.plot(leg_state['t'], leg_state['pos'])\n",
    "plt.xlabel('Time')\n",
    "plt.ylabel('Leg length')\n",
    "\n",
    "plt.subplot(4,1,2)\n",
    "plt.plot(leg_state['t'], leg_state['aF'])\n",
    "plt.xlabel('Time')\n",
    "plt.ylabel('Leg force')\n",
    "\n",
    "plt.subplot(4,1,3)\n",
    "plt.plot(leg_state['t'], body['posx'])\n",
    "plt.xlabel('Time')\n",
    "plt.ylabel('Body x')\n",
    "\n",
    "plt.subplot(4,1,4)\n",
    "plt.plot(leg_state['t'], body['posz'])\n",
    "plt.xlabel('Time')\n",
    "plt.ylabel('Body z')\n",
    "\n"
   ]
  },
  {
   "cell_type": "markdown",
   "metadata": {},
   "source": [
    "### Spring loaded force\n",
    "\n",
    "We will set the joints into the following modes\n",
    "\n",
    "**planarizing joints**\n",
    "1. x-motion locked\n",
    "2. y-motion free\n",
    "3. theta motion locked\n",
    "\n",
    "**robot joints**\n",
    "1. hip angle locked\n",
    "2. leg length free and in torque mode\n",
    "\n",
    "In both cases we need to detect the robot state, are we in stance or aerial phase? To do that we will detect the position of the foot and compare with ground (minus the radius of the foot).\n"
   ]
  },
  {
   "cell_type": "code",
   "execution_count": null,
   "metadata": {},
   "outputs": [],
   "source": [
    "###### Reset sim and reload robots\n",
    "\n",
    "p.resetSimulation()\n",
    "p.setAdditionalSearchPath(pybullet_data.getDataPath()) # Set the search path to find the plane.urdf file\n",
    "p.configureDebugVisualizer(p.COV_ENABLE_GUI,0)\n",
    "\n",
    "import numpy as np\n",
    "\n",
    "# Load the URDF of the plane that forms the ground\n",
    "plane = p.loadURDF(\"plane.urdf\")\n",
    "p.changeDynamics(plane,-1,lateralFriction = 60)\n",
    "\n",
    "# # Load the URDF of the robot\n",
    "cubeStartPos = [0,0,1]\n",
    "cubeStartOrientation = p.getQuaternionFromEuler([0,0,0])\n",
    "hpr = p.loadURDF(\"hopper_2d.urdf\", cubeStartPos, cubeStartOrientation)\n",
    "# botId = p.loadURDF(\"biped2d_pybullet.urdf\", cubeStartPos, cubeStartOrientation)\n",
    "\n",
    "# Set the Gravity vector\n",
    "p.setGravity(0,0,-9.81, physicsClientId = client)\n",
    "\n",
    "numJointsHopper = p.getNumJoints(hpr)\n",
    "jointInfo = [p.getJointInfo(hpr, ii) for ii in range(numJointsHopper)]\n",
    "\n",
    "## Make a dict of the joint names to easily access them for control purposes\n",
    "joints = {str(joint[1])[2:-1]: i for i, joint in enumerate(jointInfo)}\n",
    "# Link names are stored in the joint\n",
    "links = {str(joint[12])[2:-1]: i for i, joint in enumerate(jointInfo)}\n",
    "\n",
    "\n",
    "###### Joint constraints\n",
    "p.setJointMotorControl2(hpr, joints['x_to_world'], p.POSITION_CONTROL, targetPosition=0)\n",
    "p.setJointMotorControl2(hpr, joints['z_to_y'], p.VELOCITY_CONTROL, force=0)\n",
    "p.setJointMotorControl2(hpr, joints['body_to_z'], p.POSITION_CONTROL, targetPosition=0)\n",
    "p.setJointMotorControl2(hpr, joints['hip'], p.POSITION_CONTROL, targetPosition=0)\n",
    "\n",
    "p.setJointMotorControl2(hpr, joints['leg'], p.VELOCITY_CONTROL, force = 0) # for torque/force control\n",
    "\n",
    "###### contact detection and forcing\n",
    "def contact():\n",
    "    foot_position = p.getLinkState(hpr, links['foot'])[0][2] - foot_radius\n",
    "\n",
    "    if foot_position < 0.001:\n",
    "        return True\n",
    "    else:\n",
    "        return False\n",
    "\n",
    "    \n",
    "    \n",
    "###### Run the simulation \n",
    "\n",
    "legStiffness = 50000\n",
    "k_d = 100\n",
    "preload_force = 1000\n",
    "\n",
    "preload = leg_length*0.2\n",
    "runTime = 20.  # seconds \n",
    "runIterations = int(np.round(runTime / dt))\n",
    "state = 0;\n",
    "\n",
    "leg_state = {'t': [], 'pos': [], 'vel': [], 'rF': [], 'aF': []}\n",
    "body = {'posx': [], 'posy': [], 'posz': []}\n",
    "\n",
    "for i in range(runIterations):\n",
    "    \n",
    "    # check if in contact\n",
    "    state = contact()\n",
    "    position, velocity, reactForce, appliedForce = p.getJointState(hpr, joints['leg'])    \n",
    "    \n",
    "    if state == True: # stance phase\n",
    "        legForce = -legStiffness*(position) + preload_force\n",
    "        p.setJointMotorControl2(hpr, joints['leg'], p.TORQUE_CONTROL, force = legForce)\n",
    "            \n",
    "    else: # flight phase\n",
    "        legForce = -legStiffness*(position) - k_d*velocity # damp out oscillations\n",
    "        p.setJointMotorControl2(hpr, joints['leg'], p.TORQUE_CONTROL, force = legForce)\n",
    "\n",
    "#     legForce = -legStiffness*(position) + 1000\n",
    "#     p.setJointMotorControl2(hpr, joints['leg'], p.TORQUE_CONTROL, force = legForce)\n",
    "       \n",
    "    \n",
    "    leg_state['t'].append(i*dt)\n",
    "    leg_state['pos'].append(position)\n",
    "    leg_state['vel'].append(velocity)\n",
    "    leg_state['rF'].append(reactForce)\n",
    "    leg_state['aF'].append(appliedForce)\n",
    "    \n",
    "    position = p.getLinkState(hpr, links['foot'])[0]\n",
    "    body['posx'].append(position[0])\n",
    "    body['posy'].append(position[1])\n",
    "    body['posz'].append(position[2])\n",
    "        \n",
    "    p.stepSimulation()\n",
    "    time.sleep(dt) \n"
   ]
  },
  {
   "cell_type": "code",
   "execution_count": 53,
   "metadata": {},
   "outputs": [
    {
     "data": {
      "text/plain": [
       "Text(0, 0.5, 'Body z')"
      ]
     },
     "execution_count": 53,
     "metadata": {},
     "output_type": "execute_result"
    },
    {
     "data": {
      "image/png": "[encoded data removed]",
      "text/plain": [
       "<Figure size 720x720 with 4 Axes>"
      ]
     },
     "metadata": {
      "needs_background": "light"
     },
     "output_type": "display_data"
    }
   ],
   "source": [
    "plt.figure(figsize = (10, 10))\n",
    "\n",
    "plt.subplot(4,1,1)\n",
    "plt.plot(leg_state['t'], leg_state['pos'])\n",
    "plt.xlabel('Time')\n",
    "plt.ylabel('Leg length')\n",
    "\n",
    "plt.subplot(4,1,2)\n",
    "plt.plot(leg_state['t'], leg_state['aF'])\n",
    "plt.xlabel('Time')\n",
    "plt.ylabel('Leg force')\n",
    "\n",
    "plt.subplot(4,1,3)\n",
    "plt.plot(leg_state['t'], body['posx'])\n",
    "plt.xlabel('Time')\n",
    "plt.ylabel('Body x')\n",
    "\n",
    "plt.subplot(4,1,4)\n",
    "plt.plot(leg_state['t'], body['posz'])\n",
    "plt.xlabel('Time')\n",
    "plt.ylabel('Body z')\n",
    "\n"
   ]
  },
  {
   "cell_type": "code",
   "execution_count": null,
   "metadata": {},
   "outputs": [],
   "source": []
  }
 ],
 "metadata": {
  "kernelspec": {
   "display_name": "Python 3",
   "language": "python",
   "name": "python3"
  },
  "language_info": {
   "codemirror_mode": {
    "name": "ipython",
    "version": 3
   },
   "file_extension": ".py",
   "mimetype": "text/x-python",
   "name": "python",
   "nbconvert_exporter": "python",
   "pygments_lexer": "ipython3",
   "version": "3.8.3"
  }
 },
 "nbformat": 4,
 "nbformat_minor": 4
}
